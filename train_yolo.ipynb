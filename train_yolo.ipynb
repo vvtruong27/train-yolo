{
 "cells": [
  {
   "cell_type": "code",
   "execution_count": 1,
   "id": "f774c60f",
   "metadata": {},
   "outputs": [],
   "source": [
    "\"\"\"\n",
    "Script train YOLOv8n để nhận diện biển báo giao thông\n",
    "Tối ưu để deploy trên Raspberry Pi 5 (train trên GPU mạnh)\n",
    "\"\"\"\n",
    "\n",
    "from ultralytics import YOLO\n",
    "import torch\n",
    "import os"
   ]
  },
  {
   "cell_type": "code",
   "execution_count": 2,
   "id": "504f6247",
   "metadata": {},
   "outputs": [
    {
     "name": "stdout",
     "output_type": "stream",
     "text": [
      "\n",
      "💻 KIỂM TRA PHẦN CỨNG TRAINING\n",
      "==================================================\n",
      "CUDA available: False\n",
      "⚠️  Training trên CPU (sẽ chậm hơn)\n"
     ]
    }
   ],
   "source": [
    "print(\"\\n💻 KIỂM TRA PHẦN CỨNG TRAINING\")\n",
    "print(\"=\" * 50)\n",
    "print(\"CUDA available:\", torch.cuda.is_available())\n",
    "if torch.cuda.is_available():\n",
    "    print(\"GPU:\", torch.cuda.get_device_name())\n",
    "    print(f\"Memory: {torch.cuda.get_device_properties(0).total_memory / 1e9:.1f} GB\")\n",
    "    print(\"✅ Sử dụng GPU để training nhanh hơn\")\n",
    "else:\n",
    "    print(\"⚠️  Training trên CPU (sẽ chậm hơn)\")"
   ]
  },
  {
   "cell_type": "code",
   "execution_count": null,
   "id": "acaa7abb",
   "metadata": {},
   "outputs": [],
   "source": [
    "# Khởi tạo model YOLOv8n với pretrained weights\n",
    "model = YOLO('yolov8n.pt')\n",
    "\n",
    "# Cấu hình các hyperparameters\n",
    "train_params = {\n",
    "    'data': \"dataset.yaml\",          # File cấu hình dataset\n",
    "    'epochs': 30,                    # Số epoch (250 cho lần train cuối)\n",
    "    'patience': 15,                  # Early stopping (30 cho lần train cuối)\n",
    "    'batch': -1,                     # Auto batch size\n",
    "    'workers': 8,                    # Số worker\n",
    "    'name': 'fpt_hackathon',         # Tên experiment\n",
    "    'exist_ok': True,                # Ghi đè nếu đã tồn tại\n",
    "    'cache': True,                   # Cache dữ liệu\n",
    "    'cos_lr': True,                  # Sử dụng cosine LR scheduler\n",
    "    'close_mosaic': 10,              # Đóng mosaic sau 10 epoch\n",
    "}\n",
    "\n",
    "print(\"📊 Training parameters:\")\n",
    "for k, v in train_params.items():\n",
    "    print(f\"{k}: {v}\")"
   ]
  },
  {
   "cell_type": "code",
   "execution_count": null,
   "id": "a2068162",
   "metadata": {},
   "outputs": [],
   "source": [
    "print(\"\\n=== 🔧 BẮT ĐẦU TRAINING ===\")\n",
    "results = model.train(**train_params)"
   ]
  },
  {
   "cell_type": "code",
   "execution_count": null,
   "id": "8a0c8f02",
   "metadata": {},
   "outputs": [],
   "source": [
    "best_model_path = f\"{results.save_dir}/weights/best.pt\"\n",
    "print(f\"✅ Best model saved at: {best_model_path}\")"
   ]
  },
  {
   "cell_type": "code",
   "execution_count": null,
   "id": "118c69fb",
   "metadata": {},
   "outputs": [],
   "source": [
    "print(\"\\n=== 📤 BẮT ĐẦU EXPORT ===\")\n",
    "try:\n",
    "    export_path = model.export(format='ncnn')\n",
    "    print(f\"✅ Export thành công: {export_path}\")\n",
    "except Exception as e:\n",
    "    export_path = None\n",
    "    print(f\"❌ Export thất bại: {e}\")"
   ]
  },
  {
   "cell_type": "code",
   "execution_count": null,
   "id": "66edf540",
   "metadata": {},
   "outputs": [],
   "source": [
    "# Lấy đường dẫn đến best model\n",
    "best_model_path = os.path.join('runs', 'detect', 'fpt_hackathon', 'weights', 'best.pt')\n",
    "\n",
    "if export_path and os.path.exists(best_model_path):\n",
    "    print(\"\\n🎉 HOÀN TẤT QUÁ TRÌNH TRAIN & EXPORT!\")\n",
    "    print(f\"📁 PyTorch model: {best_model_path}\")\n",
    "    print(f\"📱 NCNN model directory: {export_path}\")\n",
    "    size_mb = os.path.getsize(best_model_path) / (1024*1024)\n",
    "    print(f\"📊 Kích thước model (PyTorch): {size_mb:.2f} MB\")\n",
    "    \n",
    "    # Kiểm tra kích thước NCNN model files\n",
    "    ncnn_param_path = os.path.join(export_path, 'model.ncnn.param')\n",
    "    ncnn_bin_path = os.path.join(export_path, 'model.ncnn.bin')\n",
    "    \n",
    "    if os.path.exists(ncnn_param_path) and os.path.exists(ncnn_bin_path):\n",
    "        param_size_mb = os.path.getsize(ncnn_param_path) / (1024*1024)\n",
    "        bin_size_mb = os.path.getsize(ncnn_bin_path) / (1024*1024)\n",
    "        total_ncnn_size = param_size_mb + bin_size_mb\n",
    "        print(f\"📊 Kích thước NCNN param: {param_size_mb:.2f} MB\")\n",
    "        print(f\"📊 Kích thước NCNN bin: {bin_size_mb:.2f} MB\")\n",
    "        print(f\"📊 Tổng kích thước NCNN: {total_ncnn_size:.2f} MB\")\n",
    "    else:\n",
    "        print(\"⚠️ Không tìm thấy file NCNN model\")\n",
    "else:\n",
    "    print(\"⚠️ Không export được model sang NCNN hoặc không tìm thấy best model.\")"
   ]
  }
 ],
 "metadata": {
  "kernelspec": {
   "display_name": ".venv",
   "language": "python",
   "name": "python3"
  },
  "language_info": {
   "codemirror_mode": {
    "name": "ipython",
    "version": 3
   },
   "file_extension": ".py",
   "mimetype": "text/x-python",
   "name": "python",
   "nbconvert_exporter": "python",
   "pygments_lexer": "ipython3",
   "version": "3.9.6"
  }
 },
 "nbformat": 4,
 "nbformat_minor": 5
}
